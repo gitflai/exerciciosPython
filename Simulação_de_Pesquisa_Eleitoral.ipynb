{
  "nbformat": 4,
  "nbformat_minor": 0,
  "metadata": {
    "colab": {
      "name": "Simulação de Pesquisa Eleitoral.ipynb",
      "provenance": [],
      "authorship_tag": "ABX9TyOdz/QSZZa/dcnL5R8fpOQh",
      "include_colab_link": true
    },
    "kernelspec": {
      "name": "python3",
      "display_name": "Python 3"
    },
    "language_info": {
      "name": "python"
    }
  },
  "cells": [
    {
      "cell_type": "markdown",
      "metadata": {
        "id": "view-in-github",
        "colab_type": "text"
      },
      "source": [
        "<a href=\"https://colab.research.google.com/github/gitflai/exerciciosPython/blob/main/Simula%C3%A7%C3%A3o_de_Pesquisa_Eleitoral.ipynb\" target=\"_parent\"><img src=\"https://colab.research.google.com/assets/colab-badge.svg\" alt=\"Open In Colab\"/></a>"
      ]
    },
    {
      "cell_type": "code",
      "execution_count": 46,
      "metadata": {
        "id": "hLKiy9bvAjtb"
      },
      "outputs": [],
      "source": [
        "n = 150_000_000\n",
        "\n",
        "candidatos = ['A', 'B', 'C', 'D']\n",
        "proporcao = [0.70, 0.20, 0.07, 0.10]\n",
        "\n",
        "populacaoA = [candidatos[0]]*int(n*proporcao[0])\n",
        "populacaoB = [candidatos[1]]*int(n*proporcao[1])\n",
        "populacaoC = [candidatos[2]]*int(n*proporcao[2])\n",
        "populacaoD = [candidatos[3]]*int(n*proporcao[3])\n",
        "populacao = populacaoA + populacaoB + populacaoC + populacaoD"
      ]
    },
    {
      "cell_type": "code",
      "source": [
        "T/n"
      ],
      "metadata": {
        "colab": {
          "base_uri": "https://localhost:8080/"
        },
        "id": "_X3SIz2BRAvh",
        "outputId": "06eecd3b-5e0b-4242-ecc9-f40ce18f9e6c"
      },
      "execution_count": 45,
      "outputs": [
        {
          "output_type": "execute_result",
          "data": {
            "text/plain": [
              "1.6666666666666667e-05"
            ]
          },
          "metadata": {},
          "execution_count": 45
        }
      ]
    },
    {
      "cell_type": "code",
      "source": [
        "import random\n",
        "import numpy as np\n",
        "\n",
        "T = 2401\n",
        "pesquisa = random.sample(populacao, k = T)\n",
        "\n",
        "a = pesquisa.count('A')/T\n",
        "b = pesquisa.count('B')/T\n",
        "c = pesquisa.count('C')/T\n",
        "d = pesquisa.count('D')/T\n",
        "\n",
        "resultado =  [a, b, c, d]\n",
        "erros = np.array(resultado) - np.array(proporcao)\n",
        "\n",
        "\n",
        "margem = 0.02\n",
        "print(abs(erros) < margem)\n",
        "\n",
        "r = all(abs(erros) < margem)   \n",
        "\n",
        "print('Valores reais:', proporcao)\n",
        "print('Estimativas  :', resultado)\n",
        "print('Erros:', erros)\n",
        "print('Margem de Erro de {:.1f}%:'.format(100*margem), r )  "
      ],
      "metadata": {
        "colab": {
          "base_uri": "https://localhost:8080/"
        },
        "id": "xmKASZaDOGc0",
        "outputId": "37c206a7-f5b5-4363-a94e-48ce04033f7d"
      },
      "execution_count": 110,
      "outputs": [
        {
          "output_type": "stream",
          "name": "stdout",
          "text": [
            "[False  True  True  True]\n",
            "Valores reais: [0.7, 0.2, 0.07, 0.03]\n",
            "Estimativas  : [0.6772178259058725, 0.21574344023323616, 0.07496876301541025, 0.03206997084548105]\n",
            "Erros: [-0.02278217  0.01574344  0.00496876  0.00206997]\n",
            "Margem de Erro de 2.0%: False\n"
          ]
        }
      ]
    },
    {
      "cell_type": "code",
      "source": [
        "proporcao"
      ],
      "metadata": {
        "colab": {
          "base_uri": "https://localhost:8080/"
        },
        "id": "6kQBPf1DO1ON",
        "outputId": "0d587cec-56cd-44e4-db33-4517d0c9d075"
      },
      "execution_count": 49,
      "outputs": [
        {
          "output_type": "execute_result",
          "data": {
            "text/plain": [
              "[0.7, 0.2, 0.07, 0.03]"
            ]
          },
          "metadata": {},
          "execution_count": 49
        }
      ]
    },
    {
      "cell_type": "code",
      "source": [
        "Replicas = 10000\n",
        "S = 2401\n",
        "margem = 0.02\n",
        "res = []\n",
        "\n",
        "for i in range(Replicas):\n",
        "    amostra = random.sample(populacao, k = S)\n",
        "    a = amostra.count('A')/S\n",
        "    b = amostra.count('B')/S\n",
        "    c = amostra.count('C')/S\n",
        "    d = amostra.count('D')/S\n",
        "    estimativas = [a, b, c, d]\n",
        "    erros = np.array(estimativas) - np.array(proporcao)\n",
        "    r = np.all(abs(erros) < margem)  \n",
        "    res.append(r)\n",
        "\n",
        "confianca = np.array(res).mean()\n",
        "print('Tamanho da População:', n )\n",
        "print('Tamanho da Amostra:', S )\n",
        "print('Margem de Erro de {:.1f}%:'.format(100*margem) ) \n",
        "print('Confiança na Estatística:', confianca)"
      ],
      "metadata": {
        "colab": {
          "base_uri": "https://localhost:8080/"
        },
        "id": "PMroZgUgPQc-",
        "outputId": "81c8645d-ea2a-44df-add2-f31fa933314f"
      },
      "execution_count": 113,
      "outputs": [
        {
          "output_type": "stream",
          "name": "stdout",
          "text": [
            "Tamanho da População: 150000000\n",
            "Tamanho da Amostra: 2401\n",
            "Margem de Erro de 2.0%:\n",
            "Confiança na Estatística: 0.9604\n"
          ]
        }
      ]
    },
    {
      "cell_type": "code",
      "source": [
        "proporcao"
      ],
      "metadata": {
        "id": "JzbTePltX7YU"
      },
      "execution_count": null,
      "outputs": []
    }
  ]
}